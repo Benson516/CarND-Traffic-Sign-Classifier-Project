{
 "cells": [
  {
   "cell_type": "markdown",
   "metadata": {},
   "source": [
    "# Self-Driving Car Engineer Nanodegree\n",
    "\n",
    "## Deep Learning\n",
    "\n",
    "## Project: Build a Traffic Sign Recognition Classifier\n",
    "\n",
    "In this notebook, a template is provided for you to implement your functionality in stages, which is required to successfully complete this project. If additional code is required that cannot be included in the notebook, be sure that the Python code is successfully imported and included in your submission if necessary. \n",
    "\n",
    "> **Note**: Once you have completed all of the code implementations, you need to finalize your work by exporting the iPython Notebook as an HTML document. Before exporting the notebook to html, all of the code cells need to have been run so that reviewers can see the final implementation and output. You can then export the notebook by using the menu above and navigating to  \\n\",\n",
    "    \"**File -> Download as -> HTML (.html)**. Include the finished document along with this notebook as your submission. \n",
    "\n",
    "In addition to implementing code, there is a writeup to complete. The writeup should be completed in a separate file, which can be either a markdown file or a pdf document. There is a [write up template](https://github.com/udacity/CarND-Traffic-Sign-Classifier-Project/blob/master/writeup_template.md) that can be used to guide the writing process. Completing the code template and writeup template will cover all of the [rubric points](https://review.udacity.com/#!/rubrics/481/view) for this project.\n",
    "\n",
    "The [rubric](https://review.udacity.com/#!/rubrics/481/view) contains \"Stand Out Suggestions\" for enhancing the project beyond the minimum requirements. The stand out suggestions are optional. If you decide to pursue the \"stand out suggestions\", you can include the code in this Ipython notebook and also discuss the results in the writeup file.\n",
    "\n",
    "\n",
    ">**Note:** Code and Markdown cells can be executed using the **Shift + Enter** keyboard shortcut. In addition, Markdown cells can be edited by typically double-clicking the cell to enter edit mode."
   ]
  },
  {
   "cell_type": "markdown",
   "metadata": {},
   "source": [
    "---\n",
    "## Step 0: Load The Data"
   ]
  },
  {
   "cell_type": "code",
   "execution_count": 1,
   "metadata": {},
   "outputs": [
    {
     "name": "stdout",
     "output_type": "stream",
     "text": [
      "signnames_dict = \n",
      "{\n",
      "    \"0\": \"Speed limit (20km/h)\",\n",
      "    \"1\": \"Speed limit (30km/h)\",\n",
      "    \"2\": \"Speed limit (50km/h)\",\n",
      "    \"3\": \"Speed limit (60km/h)\",\n",
      "    \"4\": \"Speed limit (70km/h)\",\n",
      "    \"5\": \"Speed limit (80km/h)\",\n",
      "    \"6\": \"End of speed limit (80km/h)\",\n",
      "    \"7\": \"Speed limit (100km/h)\",\n",
      "    \"8\": \"Speed limit (120km/h)\",\n",
      "    \"9\": \"No passing\",\n",
      "    \"10\": \"No passing for vehicles over 3.5 metric tons\",\n",
      "    \"11\": \"Right-of-way at the next intersection\",\n",
      "    \"12\": \"Priority road\",\n",
      "    \"13\": \"Yield\",\n",
      "    \"14\": \"Stop\",\n",
      "    \"15\": \"No vehicles\",\n",
      "    \"16\": \"Vehicles over 3.5 metric tons prohibited\",\n",
      "    \"17\": \"No entry\",\n",
      "    \"18\": \"General caution\",\n",
      "    \"19\": \"Dangerous curve to the left\",\n",
      "    \"20\": \"Dangerous curve to the right\",\n",
      "    \"21\": \"Double curve\",\n",
      "    \"22\": \"Bumpy road\",\n",
      "    \"23\": \"Slippery road\",\n",
      "    \"24\": \"Road narrows on the right\",\n",
      "    \"25\": \"Road work\",\n",
      "    \"26\": \"Traffic signals\",\n",
      "    \"27\": \"Pedestrians\",\n",
      "    \"28\": \"Children crossing\",\n",
      "    \"29\": \"Bicycles crossing\",\n",
      "    \"30\": \"Beware of ice/snow\",\n",
      "    \"31\": \"Wild animals crossing\",\n",
      "    \"32\": \"End of all speed and passing limits\",\n",
      "    \"33\": \"Turn right ahead\",\n",
      "    \"34\": \"Turn left ahead\",\n",
      "    \"35\": \"Ahead only\",\n",
      "    \"36\": \"Go straight or right\",\n",
      "    \"37\": \"Go straight or left\",\n",
      "    \"38\": \"Keep right\",\n",
      "    \"39\": \"Keep left\",\n",
      "    \"40\": \"Roundabout mandatory\",\n",
      "    \"41\": \"End of no passing\",\n",
      "    \"42\": \"End of no passing by vehicles over 3.5 metric tons\"\n",
      "}\n"
     ]
    }
   ],
   "source": [
    "# Load pickled data\n",
    "import pickle\n",
    "import json\n",
    "import numpy as np\n",
    "\n",
    "# TODO: Fill this in based on where you saved the training and testing data\n",
    "data_directory = \"../traffic-signs-data/\" # \"../data\"\n",
    "training_file = data_directory + \"train.p\"\n",
    "validation_file= data_directory + \"valid.p\"\n",
    "testing_file = data_directory + \"test.p\"\n",
    "signnames_file = \"./signnames.csv\"\n",
    "\n",
    "with open(training_file, mode='rb') as f:\n",
    "    train = pickle.load(f)\n",
    "with open(validation_file, mode='rb') as f:\n",
    "    valid = pickle.load(f)\n",
    "with open(testing_file, mode='rb') as f:\n",
    "    test = pickle.load(f)\n",
    "    \n",
    "# Get class names\n",
    "signnames_dict = dict()\n",
    "with open(signnames_file, mode='rb') as f:\n",
    "    for cnt, _line in enumerate(f):\n",
    "        if cnt == 0: # Note: data start from second line\n",
    "            continue\n",
    "        str_list = _line.decode().strip().split(\",\")\n",
    "        # print(str_list)\n",
    "        signnames_dict[int(str_list[0])] = str_list[1]\n",
    "    \n",
    "X_train, y_train = train['features'], train['labels']\n",
    "X_valid, y_valid = valid['features'], valid['labels']\n",
    "X_test, y_test = test['features'], test['labels']\n",
    "\n",
    "print(\"signnames_dict = \\n%s\" % json.dumps(signnames_dict, indent=4))"
   ]
  },
  {
   "cell_type": "markdown",
   "metadata": {},
   "source": [
    "---\n",
    "\n",
    "## Step 1: Dataset Summary & Exploration\n",
    "\n",
    "The pickled data is a dictionary with 4 key/value pairs:\n",
    "\n",
    "- `'features'` is a 4D array containing raw pixel data of the traffic sign images, (num examples, width, height, channels).\n",
    "- `'labels'` is a 1D array containing the label/class id of the traffic sign. The file `signnames.csv` contains id -> name mappings for each id.\n",
    "- `'sizes'` is a list containing tuples, (width, height) representing the original width and height the image.\n",
    "- `'coords'` is a list containing tuples, (x1, y1, x2, y2) representing coordinates of a bounding box around the sign in the image. **THESE COORDINATES ASSUME THE ORIGINAL IMAGE. THE PICKLED DATA CONTAINS RESIZED VERSIONS (32 by 32) OF THESE IMAGES**\n",
    "\n",
    "Complete the basic data summary below. Use python, numpy and/or pandas methods to calculate the data summary rather than hard coding the results. For example, the [pandas shape method](http://pandas.pydata.org/pandas-docs/stable/generated/pandas.DataFrame.shape.html) might be useful for calculating some of the summary results. "
   ]
  },
  {
   "cell_type": "markdown",
   "metadata": {},
   "source": [
    "### Provide a Basic Summary of the Data Set Using Python, Numpy and/or Pandas"
   ]
  },
  {
   "cell_type": "code",
   "execution_count": 2,
   "metadata": {},
   "outputs": [
    {
     "name": "stdout",
     "output_type": "stream",
     "text": [
      "Number of training examples = 34799\n",
      "Number of validation examples = 4410\n",
      "Number of testing examples = 12630\n",
      "Image data shape = (32, 32, 3)\n",
      "Image data type = uint8\n",
      "Image data range (min, max) = (19, 113)\n",
      "Number of classes = 43\n"
     ]
    }
   ],
   "source": [
    "### Replace each question mark with the appropriate value. \n",
    "### Use python, pandas or numpy methods rather than hard coding the results\n",
    "\n",
    "# TODO: Number of training examples\n",
    "n_train = X_train.shape[0]\n",
    "\n",
    "# TODO: Number of validation examples\n",
    "n_validation = X_valid.shape[0]\n",
    "\n",
    "# TODO: Number of testing examples.\n",
    "n_test = X_test.shape[0]\n",
    "\n",
    "# TODO: What's the shape of an traffic sign image?\n",
    "image_shape = X_train[0].shape\n",
    "\n",
    "# TODO: How many unique classes/labels there are in the dataset.\n",
    "# n_classes = len(set(y_train))\n",
    "n_classes = len(signnames_dict)\n",
    "\n",
    "\n",
    "print(\"Number of training examples =\", n_train)\n",
    "print(\"Number of validation examples =\", n_validation)\n",
    "print(\"Number of testing examples =\", n_test)\n",
    "print(\"Image data shape =\", image_shape)\n",
    "print(\"Image data type = %s\" % str(X_train[0].dtype))\n",
    "print(\"Image data range (min, max) = (%s, %s)\" % (np.min(X_train[0]), np.max(X_train[0])))\n",
    "print(\"Number of classes =\", n_classes)"
   ]
  },
  {
   "cell_type": "markdown",
   "metadata": {},
   "source": [
    "### Include an exploratory visualization of the dataset"
   ]
  },
  {
   "cell_type": "markdown",
   "metadata": {},
   "source": [
    "Visualize the German Traffic Signs Dataset using the pickled file(s). This is open ended, suggestions include: plotting traffic sign images, plotting the count of each sign, etc. \n",
    "\n",
    "The [Matplotlib](http://matplotlib.org/) [examples](http://matplotlib.org/examples/index.html) and [gallery](http://matplotlib.org/gallery.html) pages are a great resource for doing visualizations in Python.\n",
    "\n",
    "**NOTE:** It's recommended you start with something simple first. If you wish to do more, come back to it after you've completed the rest of the sections. It can be interesting to look at the distribution of classes in the training, validation and test set. Is the distribution the same? Are there more examples of some classes than others?"
   ]
  },
  {
   "cell_type": "code",
   "execution_count": 3,
   "metadata": {},
   "outputs": [
    {
     "name": "stdout",
     "output_type": "stream",
     "text": [
      "Label=3:[Speed limit (60km/h)]\n"
     ]
    },
    {
     "data": {
      "image/png": "[encoded data removed]",
      "text/plain": [
       "<Figure size 360x360 with 1 Axes>"
      ]
     },
     "metadata": {
      "needs_background": "light"
     },
     "output_type": "display_data"
    }
   ],
   "source": [
    "### Data exploration visualization code goes here.\n",
    "### Feel free to use as many code cells as needed.\n",
    "import random\n",
    "import matplotlib.pyplot as plt\n",
    "# Visualizations will be shown in the notebook.\n",
    "%matplotlib inline\n",
    "\n",
    "index = random.randint(0, len(X_train))\n",
    "# image = X_train[index].squeeze()\n",
    "image = X_train[index]\n",
    "\n",
    "plt.figure(figsize=(5,5))\n",
    "plt.imshow(image)\n",
    "print('Label=%d:[%s]' % (y_train[index], signnames_dict[y_train[index]]) )"
   ]
  },
  {
   "cell_type": "code",
   "execution_count": null,
   "metadata": {},
   "outputs": [],
   "source": []
  },
  {
   "cell_type": "markdown",
   "metadata": {},
   "source": [
    "----\n",
    "\n",
    "## Step 2: Design and Test a Model Architecture\n",
    "\n",
    "Design and implement a deep learning model that learns to recognize traffic signs. Train and test your model on the [German Traffic Sign Dataset](http://benchmark.ini.rub.de/?section=gtsrb&subsection=dataset).\n",
    "\n",
    "The LeNet-5 implementation shown in the [classroom](https://classroom.udacity.com/nanodegrees/nd013/parts/fbf77062-5703-404e-b60c-95b78b2f3f9e/modules/6df7ae49-c61c-4bb2-a23e-6527e69209ec/lessons/601ae704-1035-4287-8b11-e2c2716217ad/concepts/d4aca031-508f-4e0b-b493-e7b706120f81) at the end of the CNN lesson is a solid starting point. You'll have to change the number of classes and possibly the preprocessing, but aside from that it's plug and play! \n",
    "\n",
    "With the LeNet-5 solution from the lecture, you should expect a validation set accuracy of about 0.89. To meet specifications, the validation set accuracy will need to be at least 0.93. It is possible to get an even higher accuracy, but 0.93 is the minimum for a successful project submission. \n",
    "\n",
    "There are various aspects to consider when thinking about this problem:\n",
    "\n",
    "- Neural network architecture (is the network over or underfitting?)\n",
    "- Play around preprocessing techniques (normalization, rgb to grayscale, etc)\n",
    "- Number of examples per label (some have more than others).\n",
    "- Generate fake data.\n",
    "\n",
    "Here is an example of a [published baseline model on this problem](http://yann.lecun.com/exdb/publis/pdf/sermanet-ijcnn-11.pdf). It's not required to be familiar with the approach used in the paper but, it's good practice to try to read papers like these."
   ]
  },
  {
   "cell_type": "markdown",
   "metadata": {},
   "source": [
    "### Pre-process the Data Set (normalization, grayscale, etc.)"
   ]
  },
  {
   "cell_type": "markdown",
   "metadata": {},
   "source": [
    "Minimally, the image data should be normalized so that the data has mean zero and equal variance. For image data, `(pixel - 128)/ 128` is a quick way to approximately normalize the data and can be used in this project. \n",
    "\n",
    "Other pre-processing steps are optional. You can try different techniques to see if it improves performance. \n",
    "\n",
    "Use the code cell (or multiple code cells, if necessary) to implement the first step of your project."
   ]
  },
  {
   "cell_type": "code",
   "execution_count": 4,
   "metadata": {},
   "outputs": [],
   "source": [
    "### Preprocess the data here. It is required to normalize the data. Other preprocessing steps could include \n",
    "### converting to grayscale, etc.\n",
    "### Feel free to use as many code cells as needed.\n",
    "from sklearn.utils import shuffle\n",
    "\n",
    "X_train, y_train = shuffle(X_train, y_train)"
   ]
  },
  {
   "cell_type": "code",
   "execution_count": 5,
   "metadata": {},
   "outputs": [],
   "source": [
    "def pre_processing(a_single_x):\n",
    "    \"\"\"\n",
    "    This processing is for every single data.\n",
    "    Note: I don't process all data at once because \n",
    "           there might have some adaptive function in preprocessing \n",
    "           which is different for different input data.\n",
    "    \"\"\"\n",
    "    # a_single_x_modified = a_single_x\n",
    "    # a_single_x_modified = (a_single_x -128)/128 # Note: This only work for floating point data\n",
    "    # Normalize data for chart\n",
    "    x_min, x_max = np.min(a_single_x), np.max(a_single_x)\n",
    "    a_single_x_modified = (a_single_x - x_min) * (255.0/(x_max-x_min))\n",
    "    return a_single_x_modified"
   ]
  },
  {
   "cell_type": "code",
   "execution_count": 6,
   "metadata": {},
   "outputs": [],
   "source": [
    "def pre_processing_all_data(X_data):\n",
    "    \"\"\"\n",
    "    Apply the preporcessing on every x\n",
    "    \"\"\"\n",
    "    X_data_modified = X_data.copy()\n",
    "    for idx in range(len(X_data)):\n",
    "        X_data_modified[idx] = pre_processing(X_data[idx])\n",
    "    return X_data_modified"
   ]
  },
  {
   "cell_type": "code",
   "execution_count": 7,
   "metadata": {},
   "outputs": [],
   "source": [
    "X_train_m = pre_processing_all_data(X_train)\n",
    "X_valid_m = pre_processing_all_data(X_valid)\n",
    "X_test_m = pre_processing_all_data(X_test)"
   ]
  },
  {
   "cell_type": "code",
   "execution_count": 19,
   "metadata": {},
   "outputs": [
    {
     "name": "stdout",
     "output_type": "stream",
     "text": [
      "index = 29288\n",
      "Label=17:[No entry]\n",
      "Image data type = uint8\n",
      "Image data range (min, max) = (37, 255)\n",
      "image_m data type = uint8\n",
      "image_m data range (min, max) = (0, 255)\n"
     ]
    },
    {
     "data": {
      "image/png": "[encoded data removed]",
      "text/plain": [
       "<Figure size 360x360 with 1 Axes>"
      ]
     },
     "metadata": {
      "needs_background": "light"
     },
     "output_type": "display_data"
    },
    {
     "data": {
      "image/png": "[encoded data removed]",
      "text/plain": [
       "<Figure size 360x360 with 1 Axes>"
      ]
     },
     "metadata": {
      "needs_background": "light"
     },
     "output_type": "display_data"
    }
   ],
   "source": [
    "dir_out = \"output_images/\"\n",
    "\n",
    "# Visualize the data again\n",
    "index = random.randint(0, len(X_train))\n",
    "\n",
    "# index = 17348 # Large change\n",
    "# index = 19647 # Midium-high change\n",
    "# index = 23167 # Midium-low change\n",
    "# index = 31743 # Less change\n",
    "\n",
    "# index = 31597 # Fail to fix the sign due to high-value-range background\n",
    "\n",
    "image = X_train[index]\n",
    "image_m = X_train_m[index]\n",
    "\n",
    "\n",
    "#\n",
    "print(\"index = %d\" % index)\n",
    "print('Label=%d:[%s]' % (y_train[index], signnames_dict[y_train[index]]) )\n",
    "print(\"Image data type = %s\" % str(image.dtype))\n",
    "print(\"Image data range (min, max) = (%s, %s)\" % (np.min(image), np.max(image)))\n",
    "print(\"image_m data type = %s\" % str(image_m.dtype))\n",
    "print(\"image_m data range (min, max) = (%s, %s)\" % (np.min(image_m), np.max(image_m)))\n",
    "\n",
    "\n",
    "plt.figure(figsize=(5,5))\n",
    "plt.title(\"Original Image\")\n",
    "plt.imshow(image)\n",
    "plt.grid()\n",
    "# Save the resulted figure\n",
    "plt.savefig(dir_out + \"plot_image_original.png\")\n",
    "\n",
    "plt.figure(figsize=(5,5))\n",
    "plt.title(\"Image after Pre-processing\")\n",
    "plt.imshow(image_m)\n",
    "plt.grid()\n",
    "# Save the resulted figure\n",
    "plt.savefig(dir_out + \"plot_image_preprocessed.png\")"
   ]
  },
  {
   "cell_type": "markdown",
   "metadata": {},
   "source": [
    "### Model Architecture"
   ]
  },
  {
   "cell_type": "markdown",
   "metadata": {},
   "source": [
    "**Setup TensorFlow**\n",
    "\n",
    "The `EPOCH` and `BATCH_SIZE` values affect the training speed and model accuracy.\n",
    "\n",
    "You do not need to modify this section."
   ]
  },
  {
   "cell_type": "code",
   "execution_count": 9,
   "metadata": {},
   "outputs": [
    {
     "name": "stderr",
     "output_type": "stream",
     "text": [
      "/home/itri/.local/lib/python3.5/site-packages/tensorflow/python/framework/dtypes.py:516: FutureWarning: Passing (type, 1) or '1type' as a synonym of type is deprecated; in a future version of numpy, it will be understood as (type, (1,)) / '(1,)type'.\n",
      "  _np_qint8 = np.dtype([(\"qint8\", np.int8, 1)])\n",
      "/home/itri/.local/lib/python3.5/site-packages/tensorflow/python/framework/dtypes.py:517: FutureWarning: Passing (type, 1) or '1type' as a synonym of type is deprecated; in a future version of numpy, it will be understood as (type, (1,)) / '(1,)type'.\n",
      "  _np_quint8 = np.dtype([(\"quint8\", np.uint8, 1)])\n",
      "/home/itri/.local/lib/python3.5/site-packages/tensorflow/python/framework/dtypes.py:518: FutureWarning: Passing (type, 1) or '1type' as a synonym of type is deprecated; in a future version of numpy, it will be understood as (type, (1,)) / '(1,)type'.\n",
      "  _np_qint16 = np.dtype([(\"qint16\", np.int16, 1)])\n",
      "/home/itri/.local/lib/python3.5/site-packages/tensorflow/python/framework/dtypes.py:519: FutureWarning: Passing (type, 1) or '1type' as a synonym of type is deprecated; in a future version of numpy, it will be understood as (type, (1,)) / '(1,)type'.\n",
      "  _np_quint16 = np.dtype([(\"quint16\", np.uint16, 1)])\n",
      "/home/itri/.local/lib/python3.5/site-packages/tensorflow/python/framework/dtypes.py:520: FutureWarning: Passing (type, 1) or '1type' as a synonym of type is deprecated; in a future version of numpy, it will be understood as (type, (1,)) / '(1,)type'.\n",
      "  _np_qint32 = np.dtype([(\"qint32\", np.int32, 1)])\n",
      "/home/itri/.local/lib/python3.5/site-packages/tensorflow/python/framework/dtypes.py:525: FutureWarning: Passing (type, 1) or '1type' as a synonym of type is deprecated; in a future version of numpy, it will be understood as (type, (1,)) / '(1,)type'.\n",
      "  np_resource = np.dtype([(\"resource\", np.ubyte, 1)])\n",
      "/home/itri/.local/lib/python3.5/site-packages/tensorboard/compat/tensorflow_stub/dtypes.py:541: FutureWarning: Passing (type, 1) or '1type' as a synonym of type is deprecated; in a future version of numpy, it will be understood as (type, (1,)) / '(1,)type'.\n",
      "  _np_qint8 = np.dtype([(\"qint8\", np.int8, 1)])\n",
      "/home/itri/.local/lib/python3.5/site-packages/tensorboard/compat/tensorflow_stub/dtypes.py:542: FutureWarning: Passing (type, 1) or '1type' as a synonym of type is deprecated; in a future version of numpy, it will be understood as (type, (1,)) / '(1,)type'.\n",
      "  _np_quint8 = np.dtype([(\"quint8\", np.uint8, 1)])\n",
      "/home/itri/.local/lib/python3.5/site-packages/tensorboard/compat/tensorflow_stub/dtypes.py:543: FutureWarning: Passing (type, 1) or '1type' as a synonym of type is deprecated; in a future version of numpy, it will be understood as (type, (1,)) / '(1,)type'.\n",
      "  _np_qint16 = np.dtype([(\"qint16\", np.int16, 1)])\n",
      "/home/itri/.local/lib/python3.5/site-packages/tensorboard/compat/tensorflow_stub/dtypes.py:544: FutureWarning: Passing (type, 1) or '1type' as a synonym of type is deprecated; in a future version of numpy, it will be understood as (type, (1,)) / '(1,)type'.\n",
      "  _np_quint16 = np.dtype([(\"quint16\", np.uint16, 1)])\n",
      "/home/itri/.local/lib/python3.5/site-packages/tensorboard/compat/tensorflow_stub/dtypes.py:545: FutureWarning: Passing (type, 1) or '1type' as a synonym of type is deprecated; in a future version of numpy, it will be understood as (type, (1,)) / '(1,)type'.\n",
      "  _np_qint32 = np.dtype([(\"qint32\", np.int32, 1)])\n",
      "/home/itri/.local/lib/python3.5/site-packages/tensorboard/compat/tensorflow_stub/dtypes.py:550: FutureWarning: Passing (type, 1) or '1type' as a synonym of type is deprecated; in a future version of numpy, it will be understood as (type, (1,)) / '(1,)type'.\n",
      "  np_resource = np.dtype([(\"resource\", np.ubyte, 1)])\n"
     ]
    }
   ],
   "source": [
    "import tensorflow as tf\n",
    "from tqdm import tqdm\n",
    "import math\n",
    "\n",
    "\n"
   ]
  },
  {
   "cell_type": "markdown",
   "metadata": {},
   "source": [
    "## Implement NN based on LeNet-5\n",
    "Implement the [LeNet-5](http://yann.lecun.com/exdb/lenet/) neural network architecture.\n",
    "\n",
    "This is the only cell you need to edit.\n",
    "### Input\n",
    "The LeNet architecture accepts a 32x32xC image as input, where C is the number of color channels. Since MNIST images are grayscale, C is 1 in this case.\n",
    "\n",
    "### Architecture\n",
    "**Layer 1: Convolutional.** The output shape should be 28x28x6.\n",
    "\n",
    "**Activation.** Your choice of activation function.\n",
    "\n",
    "**Pooling.** The output shape should be 14x14x6.\n",
    "\n",
    "**Layer 2: Convolutional.** The output shape should be 10x10x16.\n",
    "\n",
    "**Activation.** Your choice of activation function.\n",
    "\n",
    "**Pooling.** The output shape should be 5x5x16.\n",
    "\n",
    "**Flatten.** Flatten the output shape of the final pooling layer such that it's 1D instead of 3D. The easiest way to do is by using `tf.contrib.layers.flatten`, which is already imported for you.\n",
    "\n",
    "**Layer 3: Fully Connected.** This should have 120 outputs.\n",
    "\n",
    "**Activation.** Your choice of activation function.\n",
    "\n",
    "**Layer 4: Fully Connected.** This should have 84 outputs.\n",
    "\n",
    "**Activation.** Your choice of activation function.\n",
    "\n",
    "**Layer 5: Fully Connected (Logits).** This should have 10 outputs.\n",
    "\n",
    "### Output\n",
    "Return the result of the 2nd fully connected layer."
   ]
  },
  {
   "cell_type": "code",
   "execution_count": 10,
   "metadata": {},
   "outputs": [],
   "source": [
    "### Define your architecture here.\n",
    "### Feel free to use as many code cells as needed.\n",
    "from tensorflow.contrib.layers import flatten\n",
    "\n",
    "# The number of input channel\n",
    "input_image_chanel = 3\n",
    "\n",
    "def NN_sign(x, keep_prob):    \n",
    "    # Arguments used for tf.truncated_normal, randomly defines variables for the weights and biases for each layer\n",
    "    mu = 0.0\n",
    "    sigma = 0.1\n",
    "    \n",
    "    # Parameters\n",
    "    num_feature_f1 = 6 \n",
    "    num_feature_f2 = 16\n",
    "    \n",
    "    # Store layers weight & bias\n",
    "    weights = {\n",
    "        'wc1': tf.Variable(tf.truncated_normal([5, 5, input_image_chanel, num_feature_f1], mean=mu, stddev=sigma)),\n",
    "        'wc2': tf.Variable(tf.truncated_normal([5, 5, num_feature_f1, num_feature_f2], mean=mu, stddev=sigma)),\n",
    "        'wd1': tf.Variable(tf.truncated_normal([5*5*num_feature_f2, 120], mean=mu, stddev=sigma)),\n",
    "        'wd2': tf.Variable(tf.truncated_normal([120, 84], mean=mu, stddev=sigma)),\n",
    "        'out': tf.Variable(tf.truncated_normal([84, n_classes], mean=mu, stddev=sigma))}\n",
    "\n",
    "    biases = {\n",
    "        'bc1': tf.Variable(tf.truncated_normal([num_feature_f1], mean=1.0, stddev=sigma*127)),\n",
    "        'bc2': tf.Variable(tf.truncated_normal([num_feature_f2], mean=mu, stddev=sigma)),\n",
    "        'bd1': tf.Variable(tf.truncated_normal([120], mean=mu, stddev=sigma)),\n",
    "        'bd2': tf.Variable(tf.truncated_normal([84], mean=mu, stddev=sigma)),\n",
    "        'out': tf.Variable(tf.truncated_normal([n_classes], mean=mu, stddev=sigma))}\n",
    "    \n",
    "    \n",
    "    \n",
    "    #-----------------#\n",
    "    \n",
    "    # Step 1: Convert the input image from uint8 to float32\n",
    "    # x_float = tf.image.convert_image_dtype(x, tf.float32, saturate=False)\n",
    "    x_float = tf.cast(x, tf.float32)\n",
    "    \n",
    "    # TODO: Layer 1: Convolutional. Input = 32x32x1. Output = 28x28x6.\n",
    "    conv1 = tf.nn.conv2d(x_float, weights['wc1'], strides=[1, 1, 1, 1], padding='VALID')\n",
    "    conv1 = tf.nn.bias_add(conv1, biases['bc1'])\n",
    "    \n",
    "    # TODO: Activation.\n",
    "    conv1_a = tf.nn.relu(conv1)\n",
    "#     conv1_a = tf.nn.dropout(conv1_a, keep_prob)\n",
    "\n",
    "    # TODO: Pooling. Input = 28x28x6. Output = 14x14x6.\n",
    "    conv1_pool = tf.nn.max_pool(conv1_a, ksize=[1, 2, 2, 1], strides=[1, 2, 2, 1], padding='VALID')\n",
    "\n",
    "    # TODO: Layer 2: Convolutional. Output = 10x10x16.\n",
    "    conv2 = tf.nn.conv2d(conv1_pool, weights['wc2'], strides=[1, 1, 1, 1], padding='VALID')\n",
    "    conv2 = tf.nn.bias_add(conv2, biases['bc2'])\n",
    "    \n",
    "    # TODO: Activation.\n",
    "    conv2_a = tf.nn.relu(conv2)\n",
    "#     conv2_a = tf.nn.dropout(conv2_a, keep_prob)\n",
    "\n",
    "    # TODO: Pooling. Input = 10x10x16. Output = 5x5x16.\n",
    "    conv2_pool = tf.nn.max_pool(conv2_a, ksize=[1, 2, 2, 1], strides=[1, 2, 2, 1], padding='VALID')\n",
    "\n",
    "    # TODO: Flatten. Input = 5x5x16. Output = 400.\n",
    "    # fc0 = tf.reshape(conv2_pool, [-1, weights['wd1'].get_shape().as_list()[0]])\n",
    "    fc0   = flatten(conv2_pool)\n",
    "    \n",
    "    # TODO: Layer 3: Fully Connected. Input = 400. Output = 120.\n",
    "    fc1 = tf.add(tf.matmul(fc0, weights['wd1']), biases['bd1'])\n",
    "    \n",
    "    # TODO: Activation.\n",
    "    fc1_a = tf.nn.relu(fc1)\n",
    "    fc1_a = tf.nn.dropout(fc1_a, keep_prob)\n",
    "\n",
    "    # TODO: Layer 4: Fully Connected. Input = 120. Output = 84.\n",
    "    fc2 = tf.add(tf.matmul(fc1_a, weights['wd2']), biases['bd2'])\n",
    "    \n",
    "    # TODO: Activation.\n",
    "    fc2_a = tf.nn.relu(fc2)\n",
    "    fc2_a = tf.nn.dropout(fc2_a, keep_prob)\n",
    "\n",
    "    # TODO: Layer 5: Fully Connected. Input = 84. Output = 10.\n",
    "    logits = tf.add(tf.matmul(fc2_a, weights['out']), biases['out'])\n",
    "    \n",
    "    # Regulizer\n",
    "#     regularizer = tf.nn.l2_loss(weights['wc1'])\n",
    "#     regularizer = tf.add( regularizer, tf.nn.l2_loss(weights['wc2']) )\n",
    "#     regularizer = tf.add( regularizer, tf.nn.l2_loss(weights['wd1']) )\n",
    "#     regularizer = tf.add( regularizer, tf.nn.l2_loss(weights['wd2']) )\n",
    "#     regularizer = tf.add( regularizer, tf.nn.l2_loss(weights['out']) )\n",
    "    regularizer = tf.nn.l2_loss(weights['out'])\n",
    "    \n",
    "    return logits, regularizer"
   ]
  },
  {
   "cell_type": "markdown",
   "metadata": {},
   "source": [
    "### Train, Validate and Test the Model"
   ]
  },
  {
   "cell_type": "markdown",
   "metadata": {},
   "source": [
    "A validation set can be used to assess how well the model is performing. A low accuracy on the training and validation\n",
    "sets imply underfitting. A high accuracy on the training set but low accuracy on the validation set implies overfitting."
   ]
  },
  {
   "cell_type": "code",
   "execution_count": 11,
   "metadata": {},
   "outputs": [],
   "source": [
    "### Train your model here.\n",
    "### Calculate and report the accuracy on the training and validation set.\n",
    "### Once a final model architecture is selected, \n",
    "### the accuracy on the test set should be calculated and reported as well.\n",
    "### Feel free to use as many code cells as needed."
   ]
  },
  {
   "cell_type": "markdown",
   "metadata": {},
   "source": [
    "**Features and Labels**\n",
    "\n",
    "Train LeNet to classify [MNIST](http://yann.lecun.com/exdb/mnist/) data.\n",
    "\n",
    "`x` is a placeholder for a batch of input images.\n",
    "`y` is a placeholder for a batch of output labels.\n",
    "\n",
    "You do not need to modify this section."
   ]
  },
  {
   "cell_type": "code",
   "execution_count": 29,
   "metadata": {},
   "outputs": [],
   "source": [
    "x = tf.placeholder(tf.uint8, (None, 32, 32, input_image_chanel))\n",
    "y = tf.placeholder(tf.int32, (None))\n",
    "\n",
    "# Generate the one-hot version of y\n",
    "one_hot_y = tf.one_hot(y, n_classes)"
   ]
  },
  {
   "cell_type": "markdown",
   "metadata": {},
   "source": [
    "Hyper parameters:"
   ]
  },
  {
   "cell_type": "code",
   "execution_count": 30,
   "metadata": {},
   "outputs": [],
   "source": [
    "# Create Model with Dropout\n",
    "keep_prob = tf.placeholder(tf.float32) # probability to keep units\n",
    "# learning_rate\n",
    "learning_rate = tf.placeholder(tf.float32) # "
   ]
  },
  {
   "cell_type": "markdown",
   "metadata": {},
   "source": [
    "**Training Pipeline**\n",
    "\n",
    "Create a training pipeline that uses the model to classify MNIST data.\n",
    "\n",
    "You do not need to modify this section."
   ]
  },
  {
   "cell_type": "code",
   "execution_count": 31,
   "metadata": {},
   "outputs": [
    {
     "name": "stdout",
     "output_type": "stream",
     "text": [
      "WARNING:tensorflow:Entity <bound method Flatten.call of <tensorflow.python.layers.core.Flatten object at 0x7f4a485d1320>> could not be transformed and will be executed as-is. Please report this to the AutgoGraph team. When filing the bug, set the verbosity to 10 (on Linux, `export AUTOGRAPH_VERBOSITY=10`) and attach the full output. Cause: converting <bound method Flatten.call of <tensorflow.python.layers.core.Flatten object at 0x7f4a485d1320>>: AttributeError: module 'gast' has no attribute 'Num'\n",
      "WARNING: Entity <bound method Flatten.call of <tensorflow.python.layers.core.Flatten object at 0x7f4a485d1320>> could not be transformed and will be executed as-is. Please report this to the AutgoGraph team. When filing the bug, set the verbosity to 10 (on Linux, `export AUTOGRAPH_VERBOSITY=10`) and attach the full output. Cause: converting <bound method Flatten.call of <tensorflow.python.layers.core.Flatten object at 0x7f4a485d1320>>: AttributeError: module 'gast' has no attribute 'Num'\n"
     ]
    }
   ],
   "source": [
    "rate = learning_rate # 0.001\n",
    "beta = 0.2 # 0.01\n",
    "\n",
    "logits, regularizer = NN_sign(x, keep_prob=keep_prob)\n",
    "# NN output - cross entropy\n",
    "cross_entropy = tf.nn.softmax_cross_entropy_with_logits(labels=one_hot_y, logits=logits)\n",
    "# The loss\n",
    "# loss_operation = tf.reduce_mean(cross_entropy)\n",
    "loss_operation = tf.reduce_mean(cross_entropy + beta * regularizer)\n",
    "#\n",
    "optimizer = tf.train.AdamOptimizer(learning_rate = rate)\n",
    "training_operation = optimizer.minimize(loss_operation)"
   ]
  },
  {
   "cell_type": "markdown",
   "metadata": {},
   "source": [
    "**Model Evaluation**\n",
    "\n",
    "Evaluate how well the loss and accuracy of the model for a given dataset.\n",
    "\n",
    "You do not need to modify this section."
   ]
  },
  {
   "cell_type": "code",
   "execution_count": 32,
   "metadata": {},
   "outputs": [],
   "source": [
    "correct_prediction = tf.equal(tf.argmax(logits, 1), tf.argmax(one_hot_y, 1))\n",
    "accuracy_operation = tf.reduce_mean(tf.cast(correct_prediction, tf.float32))\n",
    "saver = tf.train.Saver()\n",
    "\n",
    "def evaluate(X_data, y_data, keep_prob_value=1.0):\n",
    "    num_examples = len(X_data)\n",
    "    total_accuracy = 0\n",
    "    sess = tf.get_default_session()\n",
    "    for offset in range(0, num_examples, BATCH_SIZE):\n",
    "        batch_x, batch_y = X_data[offset:offset+BATCH_SIZE], y_data[offset:offset+BATCH_SIZE]\n",
    "        accuracy = sess.run(accuracy_operation, feed_dict={x: batch_x, y: batch_y, keep_prob:keep_prob_value})\n",
    "        total_accuracy += (accuracy * len(batch_x))\n",
    "    return total_accuracy / num_examples"
   ]
  },
  {
   "cell_type": "markdown",
   "metadata": {},
   "source": [
    "**Train the Model**\n",
    "\n",
    "Run the training data through the training pipeline to train the model.\n",
    "\n",
    "Before each epoch, shuffle the training set.\n",
    "\n",
    "After each epoch, measure the loss and accuracy of the validation set.\n",
    "\n",
    "Save the model after training.\n",
    "\n",
    "You do not need to modify this section."
   ]
  },
  {
   "cell_type": "code",
   "execution_count": 34,
   "metadata": {
    "scrolled": true
   },
   "outputs": [
    {
     "name": "stderr",
     "output_type": "stream",
     "text": [
      "Epoch  1/30:   1%|          | 3/272 [00:00<00:10, 26.83batches/s]"
     ]
    },
    {
     "name": "stdout",
     "output_type": "stream",
     "text": [
      "Training...\n",
      "\n"
     ]
    },
    {
     "name": "stderr",
     "output_type": "stream",
     "text": [
      "Epoch  1/30: 100%|██████████| 272/272 [00:04<00:00, 57.82batches/s]\n",
      "Epoch  2/30:   2%|▏         | 6/272 [00:00<00:04, 56.01batches/s]"
     ]
    },
    {
     "name": "stdout",
     "output_type": "stream",
     "text": [
      "EPOCH 1 ...\n",
      "Last Batch Accuracy = 0.396\n",
      "Validation Accuracy = 0.270\n",
      "\n"
     ]
    },
    {
     "name": "stderr",
     "output_type": "stream",
     "text": [
      "Epoch  2/30: 100%|██████████| 272/272 [00:04<00:00, 58.97batches/s]\n",
      "Epoch  3/30:   2%|▏         | 6/272 [00:00<00:04, 55.73batches/s]"
     ]
    },
    {
     "name": "stdout",
     "output_type": "stream",
     "text": [
      "EPOCH 2 ...\n",
      "Last Batch Accuracy = 0.468\n",
      "Validation Accuracy = 0.397\n",
      "\n"
     ]
    },
    {
     "name": "stderr",
     "output_type": "stream",
     "text": [
      "Epoch  3/30: 100%|██████████| 272/272 [00:04<00:00, 58.89batches/s]\n",
      "Epoch  4/30:   2%|▏         | 6/272 [00:00<00:04, 58.36batches/s]"
     ]
    },
    {
     "name": "stdout",
     "output_type": "stream",
     "text": [
      "EPOCH 3 ...\n",
      "Last Batch Accuracy = 0.649\n",
      "Validation Accuracy = 0.512\n",
      "\n"
     ]
    },
    {
     "name": "stderr",
     "output_type": "stream",
     "text": [
      "Epoch  4/30: 100%|██████████| 272/272 [00:04<00:00, 57.58batches/s]\n",
      "Epoch  5/30:   2%|▏         | 6/272 [00:00<00:04, 59.20batches/s]"
     ]
    },
    {
     "name": "stdout",
     "output_type": "stream",
     "text": [
      "EPOCH 4 ...\n",
      "Last Batch Accuracy = 0.703\n",
      "Validation Accuracy = 0.674\n",
      "\n"
     ]
    },
    {
     "name": "stderr",
     "output_type": "stream",
     "text": [
      "Epoch  5/30: 100%|██████████| 272/272 [00:04<00:00, 57.60batches/s]\n",
      "Epoch  6/30:   2%|▏         | 6/272 [00:00<00:04, 59.02batches/s]"
     ]
    },
    {
     "name": "stdout",
     "output_type": "stream",
     "text": [
      "EPOCH 5 ...\n",
      "Last Batch Accuracy = 0.784\n",
      "Validation Accuracy = 0.737\n",
      "\n"
     ]
    },
    {
     "name": "stderr",
     "output_type": "stream",
     "text": [
      "Epoch  6/30: 100%|██████████| 272/272 [00:04<00:00, 58.19batches/s]\n",
      "Epoch  7/30:   2%|▏         | 6/272 [00:00<00:04, 57.91batches/s]"
     ]
    },
    {
     "name": "stdout",
     "output_type": "stream",
     "text": [
      "EPOCH 6 ...\n",
      "Last Batch Accuracy = 0.766\n",
      "Validation Accuracy = 0.796\n",
      "\n"
     ]
    },
    {
     "name": "stderr",
     "output_type": "stream",
     "text": [
      "Epoch  7/30: 100%|██████████| 272/272 [00:04<00:00, 58.52batches/s]\n",
      "Epoch  8/30:   2%|▏         | 6/272 [00:00<00:04, 56.89batches/s]"
     ]
    },
    {
     "name": "stdout",
     "output_type": "stream",
     "text": [
      "EPOCH 7 ...\n",
      "Last Batch Accuracy = 0.892\n",
      "Validation Accuracy = 0.812\n",
      "\n"
     ]
    },
    {
     "name": "stderr",
     "output_type": "stream",
     "text": [
      "Epoch  8/30: 100%|██████████| 272/272 [00:04<00:00, 56.27batches/s]\n",
      "Epoch  9/30:   2%|▏         | 6/272 [00:00<00:04, 58.75batches/s]"
     ]
    },
    {
     "name": "stdout",
     "output_type": "stream",
     "text": [
      "EPOCH 8 ...\n",
      "Last Batch Accuracy = 0.847\n",
      "Validation Accuracy = 0.841\n",
      "\n"
     ]
    },
    {
     "name": "stderr",
     "output_type": "stream",
     "text": [
      "Epoch  9/30: 100%|██████████| 272/272 [00:04<00:00, 57.86batches/s]\n",
      "Epoch 10/30:   2%|▏         | 6/272 [00:00<00:04, 58.74batches/s]"
     ]
    },
    {
     "name": "stdout",
     "output_type": "stream",
     "text": [
      "EPOCH 9 ...\n",
      "Last Batch Accuracy = 0.964\n",
      "Validation Accuracy = 0.871\n",
      "\n"
     ]
    },
    {
     "name": "stderr",
     "output_type": "stream",
     "text": [
      "Epoch 10/30: 100%|██████████| 272/272 [00:04<00:00, 55.01batches/s]\n",
      "Epoch 11/30:   2%|▏         | 6/272 [00:00<00:04, 58.62batches/s]"
     ]
    },
    {
     "name": "stdout",
     "output_type": "stream",
     "text": [
      "EPOCH 10 ...\n",
      "Last Batch Accuracy = 0.973\n",
      "Validation Accuracy = 0.898\n",
      "\n"
     ]
    },
    {
     "name": "stderr",
     "output_type": "stream",
     "text": [
      "Epoch 11/30: 100%|██████████| 272/272 [00:04<00:00, 58.46batches/s]\n",
      "Epoch 12/30:   2%|▏         | 6/272 [00:00<00:04, 57.72batches/s]"
     ]
    },
    {
     "name": "stdout",
     "output_type": "stream",
     "text": [
      "EPOCH 11 ...\n",
      "Last Batch Accuracy = 0.937\n",
      "Validation Accuracy = 0.899\n",
      "\n"
     ]
    },
    {
     "name": "stderr",
     "output_type": "stream",
     "text": [
      "Epoch 12/30: 100%|██████████| 272/272 [00:04<00:00, 58.36batches/s]\n",
      "Epoch 13/30:   2%|▏         | 6/272 [00:00<00:04, 59.50batches/s]"
     ]
    },
    {
     "name": "stdout",
     "output_type": "stream",
     "text": [
      "EPOCH 12 ...\n",
      "Last Batch Accuracy = 0.955\n",
      "Validation Accuracy = 0.911\n",
      "\n"
     ]
    },
    {
     "name": "stderr",
     "output_type": "stream",
     "text": [
      "Epoch 13/30: 100%|██████████| 272/272 [00:05<00:00, 53.89batches/s]\n",
      "Epoch 14/30:   2%|▏         | 6/272 [00:00<00:04, 58.66batches/s]"
     ]
    },
    {
     "name": "stdout",
     "output_type": "stream",
     "text": [
      "EPOCH 13 ...\n",
      "Last Batch Accuracy = 0.955\n",
      "Validation Accuracy = 0.914\n",
      "\n"
     ]
    },
    {
     "name": "stderr",
     "output_type": "stream",
     "text": [
      "Epoch 14/30: 100%|██████████| 272/272 [00:04<00:00, 55.97batches/s]\n",
      "Epoch 15/30:   2%|▏         | 6/272 [00:00<00:04, 59.72batches/s]"
     ]
    },
    {
     "name": "stdout",
     "output_type": "stream",
     "text": [
      "EPOCH 14 ...\n",
      "Last Batch Accuracy = 0.955\n",
      "Validation Accuracy = 0.928\n",
      "\n"
     ]
    },
    {
     "name": "stderr",
     "output_type": "stream",
     "text": [
      "Epoch 15/30: 100%|██████████| 272/272 [00:04<00:00, 57.35batches/s]\n",
      "Epoch 16/30:   2%|▏         | 6/272 [00:00<00:04, 59.11batches/s]"
     ]
    },
    {
     "name": "stdout",
     "output_type": "stream",
     "text": [
      "EPOCH 15 ...\n",
      "Last Batch Accuracy = 0.964\n",
      "Validation Accuracy = 0.915\n",
      "\n"
     ]
    },
    {
     "name": "stderr",
     "output_type": "stream",
     "text": [
      "Epoch 16/30: 100%|██████████| 272/272 [00:04<00:00, 56.58batches/s]\n",
      "Epoch 17/30:   2%|▏         | 5/272 [00:00<00:06, 40.98batches/s]"
     ]
    },
    {
     "name": "stdout",
     "output_type": "stream",
     "text": [
      "EPOCH 16 ...\n",
      "Last Batch Accuracy = 0.973\n",
      "Validation Accuracy = 0.923\n",
      "\n"
     ]
    },
    {
     "name": "stderr",
     "output_type": "stream",
     "text": [
      "Epoch 17/30: 100%|██████████| 272/272 [00:04<00:00, 55.30batches/s]\n",
      "Epoch 18/30:   3%|▎         | 7/272 [00:00<00:04, 60.30batches/s]"
     ]
    },
    {
     "name": "stdout",
     "output_type": "stream",
     "text": [
      "EPOCH 17 ...\n",
      "Last Batch Accuracy = 0.973\n",
      "Validation Accuracy = 0.930\n",
      "\n"
     ]
    },
    {
     "name": "stderr",
     "output_type": "stream",
     "text": [
      "Epoch 18/30: 100%|██████████| 272/272 [00:04<00:00, 56.99batches/s]\n",
      "Epoch 19/30:   2%|▏         | 6/272 [00:00<00:04, 59.04batches/s]"
     ]
    },
    {
     "name": "stdout",
     "output_type": "stream",
     "text": [
      "EPOCH 18 ...\n",
      "Last Batch Accuracy = 0.955\n",
      "Validation Accuracy = 0.935\n",
      "\n"
     ]
    },
    {
     "name": "stderr",
     "output_type": "stream",
     "text": [
      "Epoch 19/30: 100%|██████████| 272/272 [00:05<00:00, 54.13batches/s]\n",
      "Epoch 20/30:   2%|▏         | 5/272 [00:00<00:06, 43.23batches/s]"
     ]
    },
    {
     "name": "stdout",
     "output_type": "stream",
     "text": [
      "EPOCH 19 ...\n",
      "Last Batch Accuracy = 0.964\n",
      "Validation Accuracy = 0.938\n",
      "\n"
     ]
    },
    {
     "name": "stderr",
     "output_type": "stream",
     "text": [
      "Epoch 20/30: 100%|██████████| 272/272 [00:05<00:00, 54.24batches/s]\n",
      "Epoch 21/30:   2%|▏         | 6/272 [00:00<00:04, 56.82batches/s]"
     ]
    },
    {
     "name": "stdout",
     "output_type": "stream",
     "text": [
      "EPOCH 20 ...\n",
      "Last Batch Accuracy = 0.991\n",
      "Validation Accuracy = 0.929\n",
      "\n"
     ]
    },
    {
     "name": "stderr",
     "output_type": "stream",
     "text": [
      "Epoch 21/30: 100%|██████████| 272/272 [00:04<00:00, 59.26batches/s]\n",
      "Epoch 22/30:   2%|▏         | 6/272 [00:00<00:04, 58.84batches/s]"
     ]
    },
    {
     "name": "stdout",
     "output_type": "stream",
     "text": [
      "EPOCH 21 ...\n",
      "Last Batch Accuracy = 0.991\n",
      "Validation Accuracy = 0.936\n",
      "\n"
     ]
    },
    {
     "name": "stderr",
     "output_type": "stream",
     "text": [
      "Epoch 22/30: 100%|██████████| 272/272 [00:04<00:00, 59.27batches/s]\n",
      "Epoch 23/30:   2%|▏         | 6/272 [00:00<00:04, 56.85batches/s]"
     ]
    },
    {
     "name": "stdout",
     "output_type": "stream",
     "text": [
      "EPOCH 22 ...\n",
      "Last Batch Accuracy = 0.991\n",
      "Validation Accuracy = 0.938\n",
      "\n"
     ]
    },
    {
     "name": "stderr",
     "output_type": "stream",
     "text": [
      "Epoch 23/30: 100%|██████████| 272/272 [00:04<00:00, 57.19batches/s]\n",
      "Epoch 24/30:   2%|▏         | 6/272 [00:00<00:04, 58.49batches/s]"
     ]
    },
    {
     "name": "stdout",
     "output_type": "stream",
     "text": [
      "EPOCH 23 ...\n",
      "Last Batch Accuracy = 0.982\n",
      "Validation Accuracy = 0.936\n",
      "\n"
     ]
    },
    {
     "name": "stderr",
     "output_type": "stream",
     "text": [
      "Epoch 24/30: 100%|██████████| 272/272 [00:04<00:00, 58.91batches/s]\n",
      "Epoch 25/30:   2%|▏         | 6/272 [00:00<00:04, 56.73batches/s]"
     ]
    },
    {
     "name": "stdout",
     "output_type": "stream",
     "text": [
      "EPOCH 24 ...\n",
      "Last Batch Accuracy = 0.982\n",
      "Validation Accuracy = 0.937\n",
      "\n"
     ]
    },
    {
     "name": "stderr",
     "output_type": "stream",
     "text": [
      "Epoch 25/30: 100%|██████████| 272/272 [00:04<00:00, 58.71batches/s]\n",
      "Epoch 26/30:   2%|▏         | 5/272 [00:00<00:05, 46.87batches/s]"
     ]
    },
    {
     "name": "stdout",
     "output_type": "stream",
     "text": [
      "EPOCH 25 ...\n",
      "Last Batch Accuracy = 0.982\n",
      "Validation Accuracy = 0.939\n",
      "\n"
     ]
    },
    {
     "name": "stderr",
     "output_type": "stream",
     "text": [
      "Epoch 26/30: 100%|██████████| 272/272 [00:04<00:00, 58.25batches/s]\n",
      "Epoch 27/30:   2%|▏         | 6/272 [00:00<00:04, 59.51batches/s]"
     ]
    },
    {
     "name": "stdout",
     "output_type": "stream",
     "text": [
      "EPOCH 26 ...\n",
      "Last Batch Accuracy = 1.000\n",
      "Validation Accuracy = 0.941\n",
      "\n"
     ]
    },
    {
     "name": "stderr",
     "output_type": "stream",
     "text": [
      "Epoch 27/30: 100%|██████████| 272/272 [00:04<00:00, 56.49batches/s]\n",
      "Epoch 28/30:   2%|▏         | 6/272 [00:00<00:04, 58.30batches/s]"
     ]
    },
    {
     "name": "stdout",
     "output_type": "stream",
     "text": [
      "EPOCH 27 ...\n",
      "Last Batch Accuracy = 0.991\n",
      "Validation Accuracy = 0.939\n",
      "\n"
     ]
    },
    {
     "name": "stderr",
     "output_type": "stream",
     "text": [
      "Epoch 28/30: 100%|██████████| 272/272 [00:04<00:00, 56.80batches/s]\n",
      "Epoch 29/30:   2%|▏         | 6/272 [00:00<00:04, 58.24batches/s]"
     ]
    },
    {
     "name": "stdout",
     "output_type": "stream",
     "text": [
      "EPOCH 28 ...\n",
      "Last Batch Accuracy = 1.000\n",
      "Validation Accuracy = 0.938\n",
      "\n"
     ]
    },
    {
     "name": "stderr",
     "output_type": "stream",
     "text": [
      "Epoch 29/30: 100%|██████████| 272/272 [00:04<00:00, 56.21batches/s]\n",
      "Epoch 30/30:   2%|▏         | 6/272 [00:00<00:04, 56.94batches/s]"
     ]
    },
    {
     "name": "stdout",
     "output_type": "stream",
     "text": [
      "EPOCH 29 ...\n",
      "Last Batch Accuracy = 0.991\n",
      "Validation Accuracy = 0.935\n",
      "\n"
     ]
    },
    {
     "name": "stderr",
     "output_type": "stream",
     "text": [
      "Epoch 30/30: 100%|██████████| 272/272 [00:04<00:00, 57.01batches/s]\n"
     ]
    },
    {
     "name": "stdout",
     "output_type": "stream",
     "text": [
      "EPOCH 30 ...\n",
      "Last Batch Accuracy = 0.991\n",
      "Validation Accuracy = 0.944\n",
      "\n",
      "Model saved\n"
     ]
    },
    {
     "data": {
      "image/png": "[encoded data removed]",
      "text/plain": [
       "<Figure size 432x288 with 2 Axes>"
      ]
     },
     "metadata": {
      "needs_background": "light"
     },
     "output_type": "display_data"
    },
    {
     "name": "stdout",
     "output_type": "stream",
     "text": [
      "Validation accuracy at 0.943990929732247\n"
     ]
    }
   ],
   "source": [
    "X_train_in, y_train_in = X_train_m, y_train\n",
    "X_valid_in, y_valid_in = X_valid_m, y_valid\n",
    "\n",
    "# Hyper parameters\n",
    "EPOCHS = 30 # 10\n",
    "BATCH_SIZE = 128\n",
    "\n",
    "# Measurements use for graphing loss and accuracy\n",
    "epochs_num = []\n",
    "loss_batch = []\n",
    "loss_valid = []\n",
    "train_acc_batch = []\n",
    "valid_acc_batch = []\n",
    "\n",
    "LEARNING_RATE_HIGH = 0.0018\n",
    "LEARNING_RATE_LOW = 0.0008\n",
    "learning_rate_now = LEARNING_RATE_HIGH\n",
    "\n",
    "# Random seed\n",
    "tf.set_random_seed(220)\n",
    "\n",
    "#\n",
    "last_batch_accuracy = 0.0\n",
    "validation_accuracy = 0.0\n",
    "\n",
    "# with tf.Session() as sess:\n",
    "with tf.Session(config=tf.ConfigProto(log_device_placement=True)) as sess:\n",
    "    sess.run(tf.global_variables_initializer())\n",
    "    num_examples = len(X_train)\n",
    "    \n",
    "    print(\"Training...\")\n",
    "    print()\n",
    "    for epoch_i in range(EPOCHS):\n",
    "        # Decide which learning rate to be used\n",
    "        learning_rate_now = LEARNING_RATE_HIGH if last_batch_accuracy < 0.9 else LEARNING_RATE_LOW\n",
    "        \n",
    "        # Shuffle the training data per epoch\n",
    "        X_train_in, y_train_in = shuffle(X_train_in, y_train_in)\n",
    "        \n",
    "        batch_count = int(math.ceil(float(len(X_train_in))/BATCH_SIZE))\n",
    "        # Progress bar\n",
    "        batches_pbar = tqdm(range(batch_count), desc='Epoch {:>2}/{}'.format(epoch_i+1, EPOCHS), unit='batches')\n",
    "        \n",
    "        # The training cycle\n",
    "        # for offset in range(0, num_examples, BATCH_SIZE):\n",
    "        for batch_i in batches_pbar:\n",
    "            # Get a batch of training features and labels\n",
    "            offset = batch_i*BATCH_SIZE\n",
    "            end = offset + BATCH_SIZE\n",
    "            #\n",
    "            batch_x, batch_y = X_train_in[offset:end], y_train_in[offset:end]\n",
    "            sess.run(training_operation, feed_dict={x: batch_x, y: batch_y, keep_prob:0.5, learning_rate:learning_rate_now})\n",
    "            \n",
    "        last_batch_loss = sess.run(loss_operation, feed_dict={x:batch_x, y:batch_y, keep_prob:1.0})\n",
    "        valid_loss = sess.run(loss_operation, feed_dict={x:X_valid_in, y:y_valid_in, keep_prob:1.0})\n",
    "        \n",
    "        last_batch_accuracy = evaluate(batch_x, batch_y, keep_prob_value=1.0)\n",
    "#         last_batch_accuracy = evaluate(X_train_in, y_train_in, keep_prob_value=1.0)\n",
    "        validation_accuracy = evaluate(X_valid_in, y_valid_in, keep_prob_value=1.0)\n",
    "        print(\"EPOCH {} ...\".format(epoch_i+1))\n",
    "        print(\"Last Batch Accuracy = {:.3f}\".format(last_batch_accuracy))\n",
    "        print(\"Validation Accuracy = {:.3f}\".format(validation_accuracy))\n",
    "        print()\n",
    "        \n",
    "        # Log every epoch\n",
    "        previous_epoch = epochs_num[-1] if epochs_num else 0\n",
    "        epochs_num.append(1 + previous_epoch)\n",
    "        loss_batch.append(last_batch_loss)\n",
    "        loss_valid.append(valid_loss)\n",
    "        train_acc_batch.append(last_batch_accuracy)\n",
    "        valid_acc_batch.append(validation_accuracy)\n",
    "            \n",
    "        \n",
    "        \n",
    "    saver.save(sess, './lenet')\n",
    "    print(\"Model saved\")\n",
    "    \n",
    "    \n",
    "loss_plot = plt.subplot(211)\n",
    "loss_plot.set_title('Loss')\n",
    "loss_plot.plot(epochs_num, loss_batch, 'g', label='Training Loss')\n",
    "loss_plot.plot(epochs_num, loss_valid, 'b', label='Validation Loss')\n",
    "loss_plot.legend(loc=4)\n",
    "loss_plot.set_xlim([epochs_num[0], epochs_num[-1]])\n",
    "\n",
    "acc_plot = plt.subplot(212)\n",
    "acc_plot.set_title('Accuracy')\n",
    "acc_plot.plot(epochs_num, train_acc_batch, 'r', label='Training Accuracy')\n",
    "acc_plot.plot(epochs_num, valid_acc_batch, 'x', label='Validation Accuracy')\n",
    "acc_plot.set_ylim([0, 1.0])\n",
    "acc_plot.set_xlim([epochs_num[0], epochs_num[-1]])\n",
    "acc_plot.legend(loc=4)\n",
    "plt.tight_layout()\n",
    "plt.show()\n",
    "\n",
    "print('Validation accuracy at {}'.format(validation_accuracy))"
   ]
  },
  {
   "cell_type": "markdown",
   "metadata": {},
   "source": [
    "**Evaluate the Model**\n",
    "\n",
    "Once you are completely satisfied with your model, evaluate the performance of the model on the test set.\n",
    "\n",
    "Be sure to only do this once!\n",
    "\n",
    "If you were to measure the performance of your trained model on the test set, then improve your model, and then measure the performance of your model on the test set again, that would invalidate your test results. You wouldn't get a true measure of how well your model would perform against real data.\n",
    "\n",
    "You do not need to modify this section."
   ]
  },
  {
   "cell_type": "code",
   "execution_count": 35,
   "metadata": {},
   "outputs": [
    {
     "name": "stdout",
     "output_type": "stream",
     "text": [
      "INFO:tensorflow:Restoring parameters from ./lenet\n",
      "Test Accuracy = 0.927\n"
     ]
    }
   ],
   "source": [
    "X_test_in, y_test_in = X_test_m, y_test\n",
    "\n",
    "with tf.Session() as sess:\n",
    "    saver.restore(sess, tf.train.latest_checkpoint('.'))\n",
    "\n",
    "    test_accuracy = evaluate(X_test_in, y_test_in)\n",
    "    print(\"Test Accuracy = {:.3f}\".format(test_accuracy))"
   ]
  },
  {
   "cell_type": "markdown",
   "metadata": {},
   "source": [
    "---\n",
    "\n",
    "## Step 3: Test a Model on New Images\n",
    "\n",
    "To give yourself more insight into how your model is working, download at least five pictures of German traffic signs from the web and use your model to predict the traffic sign type.\n",
    "\n",
    "You may find `signnames.csv` useful as it contains mappings from the class id (integer) to the actual sign name."
   ]
  },
  {
   "cell_type": "markdown",
   "metadata": {},
   "source": [
    "### Load and Output the Images"
   ]
  },
  {
   "cell_type": "code",
   "execution_count": null,
   "metadata": {},
   "outputs": [],
   "source": [
    "### Load the images and plot them here.\n",
    "### Feel free to use as many code cells as needed."
   ]
  },
  {
   "cell_type": "markdown",
   "metadata": {},
   "source": [
    "### Predict the Sign Type for Each Image"
   ]
  },
  {
   "cell_type": "code",
   "execution_count": null,
   "metadata": {},
   "outputs": [],
   "source": [
    "### Run the predictions here and use the model to output the prediction for each image.\n",
    "### Make sure to pre-process the images with the same pre-processing pipeline used earlier.\n",
    "### Feel free to use as many code cells as needed."
   ]
  },
  {
   "cell_type": "markdown",
   "metadata": {},
   "source": [
    "### Analyze Performance"
   ]
  },
  {
   "cell_type": "code",
   "execution_count": null,
   "metadata": {},
   "outputs": [],
   "source": [
    "### Calculate the accuracy for these 5 new images. \n",
    "### For example, if the model predicted 1 out of 5 signs correctly, it's 20% accurate on these new images."
   ]
  },
  {
   "cell_type": "markdown",
   "metadata": {},
   "source": [
    "### Output Top 5 Softmax Probabilities For Each Image Found on the Web"
   ]
  },
  {
   "cell_type": "markdown",
   "metadata": {},
   "source": [
    "For each of the new images, print out the model's softmax probabilities to show the **certainty** of the model's predictions (limit the output to the top 5 probabilities for each image). [`tf.nn.top_k`](https://www.tensorflow.org/versions/r0.12/api_docs/python/nn.html#top_k) could prove helpful here. \n",
    "\n",
    "The example below demonstrates how tf.nn.top_k can be used to find the top k predictions for each image.\n",
    "\n",
    "`tf.nn.top_k` will return the values and indices (class ids) of the top k predictions. So if k=3, for each sign, it'll return the 3 largest probabilities (out of a possible 43) and the correspoding class ids.\n",
    "\n",
    "Take this numpy array as an example. The values in the array represent predictions. The array contains softmax probabilities for five candidate images with six possible classes. `tf.nn.top_k` is used to choose the three classes with the highest probability:\n",
    "\n",
    "```\n",
    "# (5, 6) array\n",
    "a = np.array([[ 0.24879643,  0.07032244,  0.12641572,  0.34763842,  0.07893497,\n",
    "         0.12789202],\n",
    "       [ 0.28086119,  0.27569815,  0.08594638,  0.0178669 ,  0.18063401,\n",
    "         0.15899337],\n",
    "       [ 0.26076848,  0.23664738,  0.08020603,  0.07001922,  0.1134371 ,\n",
    "         0.23892179],\n",
    "       [ 0.11943333,  0.29198961,  0.02605103,  0.26234032,  0.1351348 ,\n",
    "         0.16505091],\n",
    "       [ 0.09561176,  0.34396535,  0.0643941 ,  0.16240774,  0.24206137,\n",
    "         0.09155967]])\n",
    "```\n",
    "\n",
    "Running it through `sess.run(tf.nn.top_k(tf.constant(a), k=3))` produces:\n",
    "\n",
    "```\n",
    "TopKV2(values=array([[ 0.34763842,  0.24879643,  0.12789202],\n",
    "       [ 0.28086119,  0.27569815,  0.18063401],\n",
    "       [ 0.26076848,  0.23892179,  0.23664738],\n",
    "       [ 0.29198961,  0.26234032,  0.16505091],\n",
    "       [ 0.34396535,  0.24206137,  0.16240774]]), indices=array([[3, 0, 5],\n",
    "       [0, 1, 4],\n",
    "       [0, 5, 1],\n",
    "       [1, 3, 5],\n",
    "       [1, 4, 3]], dtype=int32))\n",
    "```\n",
    "\n",
    "Looking just at the first row we get `[ 0.34763842,  0.24879643,  0.12789202]`, you can confirm these are the 3 largest probabilities in `a`. You'll also notice `[3, 0, 5]` are the corresponding indices."
   ]
  },
  {
   "cell_type": "code",
   "execution_count": null,
   "metadata": {},
   "outputs": [],
   "source": [
    "### Print out the top five softmax probabilities for the predictions on the German traffic sign images found on the web. \n",
    "### Feel free to use as many code cells as needed."
   ]
  },
  {
   "cell_type": "markdown",
   "metadata": {},
   "source": [
    "### Project Writeup\n",
    "\n",
    "Once you have completed the code implementation, document your results in a project writeup using this [template](https://github.com/udacity/CarND-Traffic-Sign-Classifier-Project/blob/master/writeup_template.md) as a guide. The writeup can be in a markdown or pdf file. "
   ]
  },
  {
   "cell_type": "markdown",
   "metadata": {},
   "source": [
    "> **Note**: Once you have completed all of the code implementations and successfully answered each question above, you may finalize your work by exporting the iPython Notebook as an HTML document. You can do this by using the menu above and navigating to  \\n\",\n",
    "    \"**File -> Download as -> HTML (.html)**. Include the finished document along with this notebook as your submission."
   ]
  },
  {
   "cell_type": "markdown",
   "metadata": {},
   "source": [
    "---\n",
    "\n",
    "## Step 4 (Optional): Visualize the Neural Network's State with Test Images\n",
    "\n",
    " This Section is not required to complete but acts as an additional excersise for understaning the output of a neural network's weights. While neural networks can be a great learning device they are often referred to as a black box. We can understand what the weights of a neural network look like better by plotting their feature maps. After successfully training your neural network you can see what it's feature maps look like by plotting the output of the network's weight layers in response to a test stimuli image. From these plotted feature maps, it's possible to see what characteristics of an image the network finds interesting. For a sign, maybe the inner network feature maps react with high activation to the sign's boundary outline or to the contrast in the sign's painted symbol.\n",
    "\n",
    " Provided for you below is the function code that allows you to get the visualization output of any tensorflow weight layer you want. The inputs to the function should be a stimuli image, one used during training or a new one you provided, and then the tensorflow variable name that represents the layer's state during the training process, for instance if you wanted to see what the [LeNet lab's](https://classroom.udacity.com/nanodegrees/nd013/parts/fbf77062-5703-404e-b60c-95b78b2f3f9e/modules/6df7ae49-c61c-4bb2-a23e-6527e69209ec/lessons/601ae704-1035-4287-8b11-e2c2716217ad/concepts/d4aca031-508f-4e0b-b493-e7b706120f81) feature maps looked like for it's second convolutional layer you could enter conv2 as the tf_activation variable.\n",
    "\n",
    "For an example of what feature map outputs look like, check out NVIDIA's results in their paper [End-to-End Deep Learning for Self-Driving Cars](https://devblogs.nvidia.com/parallelforall/deep-learning-self-driving-cars/) in the section Visualization of internal CNN State. NVIDIA was able to show that their network's inner weights had high activations to road boundary lines by comparing feature maps from an image with a clear path to one without. Try experimenting with a similar test to show that your trained network's weights are looking for interesting features, whether it's looking at differences in feature maps from images with or without a sign, or even what feature maps look like in a trained network vs a completely untrained one on the same sign image.\n",
    "\n",
    "<figure>\n",
    " <img src=\"visualize_cnn.png\" width=\"380\" alt=\"Combined Image\" />\n",
    " <figcaption>\n",
    " <p></p> \n",
    " <p style=\"text-align: center;\"> Your output should look something like this (above)</p> \n",
    " </figcaption>\n",
    "</figure>\n",
    " <p></p> \n"
   ]
  },
  {
   "cell_type": "code",
   "execution_count": null,
   "metadata": {},
   "outputs": [],
   "source": [
    "### Visualize your network's feature maps here.\n",
    "### Feel free to use as many code cells as needed.\n",
    "\n",
    "# image_input: the test image being fed into the network to produce the feature maps\n",
    "# tf_activation: should be a tf variable name used during your training procedure that represents the calculated state of a specific weight layer\n",
    "# activation_min/max: can be used to view the activation contrast in more detail, by default matplot sets min and max to the actual min and max values of the output\n",
    "# plt_num: used to plot out multiple different weight feature map sets on the same block, just extend the plt number for each new feature map entry\n",
    "\n",
    "def outputFeatureMap(image_input, tf_activation, activation_min=-1, activation_max=-1 ,plt_num=1):\n",
    "    # Here make sure to preprocess your image_input in a way your network expects\n",
    "    # with size, normalization, ect if needed\n",
    "    # image_input =\n",
    "    # Note: x should be the same name as your network's tensorflow data placeholder variable\n",
    "    # If you get an error tf_activation is not defined it may be having trouble accessing the variable from inside a function\n",
    "    activation = tf_activation.eval(session=sess,feed_dict={x : image_input})\n",
    "    featuremaps = activation.shape[3]\n",
    "    plt.figure(plt_num, figsize=(15,15))\n",
    "    for featuremap in range(featuremaps):\n",
    "        plt.subplot(6,8, featuremap+1) # sets the number of feature maps to show on each row and column\n",
    "        plt.title('FeatureMap ' + str(featuremap)) # displays the feature map number\n",
    "        if activation_min != -1 & activation_max != -1:\n",
    "            plt.imshow(activation[0,:,:, featuremap], interpolation=\"nearest\", vmin =activation_min, vmax=activation_max, cmap=\"gray\")\n",
    "        elif activation_max != -1:\n",
    "            plt.imshow(activation[0,:,:, featuremap], interpolation=\"nearest\", vmax=activation_max, cmap=\"gray\")\n",
    "        elif activation_min !=-1:\n",
    "            plt.imshow(activation[0,:,:, featuremap], interpolation=\"nearest\", vmin=activation_min, cmap=\"gray\")\n",
    "        else:\n",
    "            plt.imshow(activation[0,:,:, featuremap], interpolation=\"nearest\", cmap=\"gray\")"
   ]
  }
 ],
 "metadata": {
  "anaconda-cloud": {},
  "kernelspec": {
   "display_name": "Python 3",
   "language": "python",
   "name": "python3"
  },
  "language_info": {
   "codemirror_mode": {
    "name": "ipython",
    "version": 3
   },
   "file_extension": ".py",
   "mimetype": "text/x-python",
   "name": "python",
   "nbconvert_exporter": "python",
   "pygments_lexer": "ipython3",
   "version": "3.5.2"
  }
 },
 "nbformat": 4,
 "nbformat_minor": 1
}
